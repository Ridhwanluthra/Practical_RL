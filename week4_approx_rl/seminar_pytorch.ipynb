{
 "cells": [
  {
   "cell_type": "markdown",
   "metadata": {},
   "source": [
    "# Approximate q-learning\n",
    "\n",
    "In this notebook you will teach a __pytorch__ neural network to do Q-learning."
   ]
  },
  {
   "cell_type": "code",
   "execution_count": 1,
   "metadata": {},
   "outputs": [],
   "source": [
    "# XVFB will be launched if you run on a server\n",
    "import os\n",
    "if type(os.environ.get(\"DISPLAY\")) is not str or len(os.environ.get(\"DISPLAY\")) == 0:\n",
    "    !bash ../xvfb start\n",
    "    %env DISPLAY = : 1"
   ]
  },
  {
   "cell_type": "code",
   "execution_count": 2,
   "metadata": {},
   "outputs": [],
   "source": [
    "import gym\n",
    "import numpy as np\n",
    "import pandas as pd\n",
    "import matplotlib.pyplot as plt\n",
    "%matplotlib inline"
   ]
  },
  {
   "cell_type": "code",
   "execution_count": 3,
   "metadata": {
    "scrolled": false
   },
   "outputs": [
    {
     "name": "stdout",
     "output_type": "stream",
     "text": [
      "2\n",
      "(4,)\n"
     ]
    },
    {
     "data": {
      "image/png": "[encoded data removed]",
      "text/plain": [
       "<Figure size 432x288 with 1 Axes>"
      ]
     },
     "metadata": {
      "needs_background": "light"
     },
     "output_type": "display_data"
    }
   ],
   "source": [
    "env = gym.make(\"CartPole-v0\").env\n",
    "env.reset()\n",
    "n_actions = env.action_space.n\n",
    "state_dim = env.observation_space.shape\n",
    "print(n_actions)\n",
    "print(state_dim)\n",
    "\n",
    "plt.imshow(env.render(\"rgb_array\"))\n",
    "env.close()"
   ]
  },
  {
   "cell_type": "markdown",
   "metadata": {},
   "source": [
    "# Approximate Q-learning: building the network\n",
    "\n",
    "To train a neural network policy one must have a neural network policy. Let's build it.\n",
    "\n",
    "\n",
    "Since we're working with a pre-extracted features (cart positions, angles and velocities), we don't need a complicated network yet. In fact, let's build something like this for starters:\n",
    "\n",
    "![img](https://s14.postimg.org/uzay2q5rl/qlearning_scheme.png)\n",
    "\n",
    "For your first run, please only use linear layers (nn.Linear) and activations. Stuff like batch normalization or dropout may ruin everything if used haphazardly. \n",
    "\n",
    "Also please avoid using nonlinearities like sigmoid & tanh: agent's observations are not normalized so sigmoids may become saturated from init.\n",
    "\n",
    "Ideally you should start small with maybe 1-2 hidden layers with < 200 neurons and then increase network size if agent doesn't beat the target score."
   ]
  },
  {
   "cell_type": "code",
   "execution_count": 22,
   "metadata": {},
   "outputs": [],
   "source": [
    "import torch\n",
    "import torch.nn as nn\n",
    "import torch.nn.functional as F"
   ]
  },
  {
   "cell_type": "code",
   "execution_count": 23,
   "metadata": {},
   "outputs": [],
   "source": [
    "network = nn.Sequential()\n",
    "\n",
    "network.add_module('layer1', nn.Linear(state_dim[0], 10))\n",
    "network.add_module('layer2', nn.Linear(10, 5))\n",
    "network.add_module('layer3', nn.Linear(5, 2))\n",
    "\n",
    "# <YOUR CODE: stack layers!!!1 >\n",
    "\n",
    "# hint: use state_dim[0] as input size"
   ]
  },
  {
   "cell_type": "code",
   "execution_count": 24,
   "metadata": {},
   "outputs": [],
   "source": [
    "def get_action(state, epsilon=0):\n",
    "    \"\"\"\n",
    "    sample actions with epsilon-greedy policy\n",
    "    recap: with p = epsilon pick random action, else pick action with highest Q(s,a)\n",
    "    \"\"\"\n",
    "    state = torch.tensor(state[np.newaxis], dtype=torch.float32)\n",
    "    q_values = network(state).detach().numpy().squeeze()\n",
    "#     print(q_values)\n",
    "\n",
    "    if np.random.choice((True, False), p=(epsilon, 1-epsilon)):\n",
    "        chosen_action = np.random.choice(range(n_actions))\n",
    "    else:\n",
    "        chosen_action = np.argmax([q_values[each] for each in range(n_actions)])\n",
    "\n",
    "    return int(chosen_action)"
   ]
  },
  {
   "cell_type": "code",
   "execution_count": 25,
   "metadata": {},
   "outputs": [
    {
     "name": "stdout",
     "output_type": "stream",
     "text": [
      "e=0.0 tests passed\n",
      "e=0.1 tests passed\n",
      "e=0.5 tests passed\n",
      "e=1.0 tests passed\n"
     ]
    }
   ],
   "source": [
    "s = env.reset()\n",
    "assert tuple(network(torch.tensor([s]*3, dtype=torch.float32)).size()) == (\n",
    "    3, n_actions), \"please make sure your model maps state s -> [Q(s,a0), ..., Q(s, a_last)]\"\n",
    "assert isinstance(list(network.modules(\n",
    "))[-1], nn.Linear), \"please make sure you predict q-values without nonlinearity (ignore if you know what you're doing)\"\n",
    "assert isinstance(get_action(\n",
    "    s), int), \"get_action(s) must return int, not %s. try int(action)\" % (type(get_action(s)))\n",
    "\n",
    "# test epsilon-greedy exploration\n",
    "for eps in [0., 0.1, 0.5, 1.0]:\n",
    "    state_frequencies = np.bincount(\n",
    "        [get_action(s, epsilon=eps) for i in range(10000)], minlength=n_actions)\n",
    "    best_action = state_frequencies.argmax()\n",
    "    assert abs(state_frequencies[best_action] -\n",
    "               10000 * (1 - eps + eps / n_actions)) < 200\n",
    "    for other_action in range(n_actions):\n",
    "        if other_action != best_action:\n",
    "            assert abs(state_frequencies[other_action] -\n",
    "                       10000 * (eps / n_actions)) < 200\n",
    "    print('e=%.1f tests passed' % eps)"
   ]
  },
  {
   "cell_type": "markdown",
   "metadata": {},
   "source": [
    "### Q-learning via gradient descent\n",
    "\n",
    "We shall now train our agent's Q-function by minimizing the TD loss:\n",
    "$$ L = { 1 \\over N} \\sum_i (Q_{\\theta}(s,a) - [r(s,a) + \\gamma \\cdot max_{a'} Q_{-}(s', a')]) ^2 $$\n",
    "\n",
    "\n",
    "Where\n",
    "* $s, a, r, s'$ are current state, action, reward and next state respectively\n",
    "* $\\gamma$ is a discount factor defined two cells above.\n",
    "\n",
    "The tricky part is with  $Q_{-}(s',a')$. From an engineering standpoint, it's the same as $Q_{\\theta}$ - the output of your neural network policy. However, when doing gradient descent, __we won't propagate gradients through it__ to make training more stable (see lectures).\n",
    "\n",
    "To do so, we shall use `x.detach()` function which basically says \"consider this thing constant when doingbackprop\"."
   ]
  },
  {
   "cell_type": "code",
   "execution_count": 26,
   "metadata": {},
   "outputs": [],
   "source": [
    "def to_one_hot(y_tensor, n_dims=None):\n",
    "    \"\"\" helper: take an integer vector and convert it to 1-hot matrix. \"\"\"\n",
    "    y_tensor = y_tensor.type(torch.LongTensor).view(-1, 1)\n",
    "    n_dims = n_dims if n_dims is not None else int(torch.max(y_tensor)) + 1\n",
    "    y_one_hot = torch.zeros(\n",
    "        y_tensor.size()[0], n_dims).scatter_(1, y_tensor, 1)\n",
    "    return y_one_hot\n",
    "\n",
    "\n",
    "def where(cond, x_1, x_2):\n",
    "    \"\"\" helper: like np.where but in pytorch. \"\"\"\n",
    "    return (cond * x_1) + ((1-cond) * x_2)"
   ]
  },
  {
   "cell_type": "code",
   "execution_count": 27,
   "metadata": {},
   "outputs": [],
   "source": [
    "def compute_td_loss(states, actions, rewards, next_states, is_done, gamma=0.99, check_shapes=False):\n",
    "    \"\"\" Compute td loss using torch operations only. Use the formula above. \"\"\"\n",
    "    states = torch.tensor(\n",
    "        states, dtype=torch.float32)    # shape: [batch_size, state_size]\n",
    "    actions = torch.tensor(actions, dtype=torch.int32)    # shape: [batch_size]\n",
    "    rewards = torch.tensor(rewards, dtype=torch.float32)  # shape: [batch_size]\n",
    "    # shape: [batch_size, state_size]\n",
    "    next_states = torch.tensor(next_states, dtype=torch.float32)\n",
    "    is_done = torch.tensor(is_done, dtype=torch.float32)  # shape: [batch_size]\n",
    "\n",
    "    # get q-values for all actions in current states\n",
    "    predicted_qvalues = network(states)\n",
    "\n",
    "    # select q-values for chosen actions\n",
    "    predicted_qvalues_for_actions = torch.sum(\n",
    "        predicted_qvalues * to_one_hot(actions, n_actions), dim=1)\n",
    "\n",
    "    # compute q-values for all actions in next states\n",
    "#     predicted_next_qvalues =  # YOUR CODE\n",
    "    predicted_next_qvalues =  network(next_states)\n",
    "#     print(predicted_next_qvalues)\n",
    "\n",
    "    # compute V*(next_states) using predicted next q-values\n",
    "#     next_state_values =  # YOUR CODE\n",
    "    next_state_values = torch.max(predicted_next_qvalues, dim=1)[0]\n",
    "#     print(next_state_values)\n",
    "    assert next_state_values.dtype == torch.float32\n",
    "\n",
    "    # compute \"target q-values\" for loss - it's what's inside square parentheses in the above formula.\n",
    "#     target_qvalues_for_actions =  # YOUR CODE\n",
    "    target_qvalues_for_actions = rewards + gamma * next_state_values\n",
    "\n",
    "    # at the last state we shall use simplified formula: Q(s,a) = r(s,a) since s' doesn't exist\n",
    "    target_qvalues_for_actions = where(\n",
    "        is_done, rewards, target_qvalues_for_actions)\n",
    "\n",
    "    # mean squared error loss to minimize\n",
    "    loss = torch.mean((predicted_qvalues_for_actions -\n",
    "                       target_qvalues_for_actions.detach()) ** 2)\n",
    "\n",
    "    if check_shapes:\n",
    "        assert predicted_next_qvalues.data.dim(\n",
    "        ) == 2, \"make sure you predicted q-values for all actions in next state\"\n",
    "        assert next_state_values.data.dim(\n",
    "        ) == 1, \"make sure you computed V(s') as maximum over just the actions axis and not all axes\"\n",
    "        assert target_qvalues_for_actions.data.dim(\n",
    "        ) == 1, \"there's something wrong with target q-values, they must be a vector\"\n",
    "\n",
    "    return loss"
   ]
  },
  {
   "cell_type": "code",
   "execution_count": 28,
   "metadata": {},
   "outputs": [],
   "source": [
    "# sanity checks\n",
    "s = env.reset()\n",
    "a = env.action_space.sample()\n",
    "next_s, r, done, _ = env.step(a)\n",
    "loss = compute_td_loss([s], [a], [r], [next_s], [done], check_shapes=True)\n",
    "loss.backward()\n",
    "\n",
    "assert len(loss.size()) == 0, \"you must return scalar loss - mean over batch\"\n",
    "assert np.any(next(network.parameters()).grad.detach().numpy() !=\n",
    "              0), \"loss must be differentiable w.r.t. network weights\""
   ]
  },
  {
   "cell_type": "markdown",
   "metadata": {},
   "source": [
    "### Playing the game"
   ]
  },
  {
   "cell_type": "code",
   "execution_count": 32,
   "metadata": {},
   "outputs": [],
   "source": [
    "opt = torch.optim.Adam(network.parameters(), lr=1e-3)\n",
    "epsilon = 0.7"
   ]
  },
  {
   "cell_type": "code",
   "execution_count": 33,
   "metadata": {},
   "outputs": [],
   "source": [
    "def generate_session(t_max=1000, epsilon=0, train=False):\n",
    "    \"\"\"play env with approximate q-learning agent and train it at the same time\"\"\"\n",
    "    total_reward = 0\n",
    "    s = env.reset()\n",
    "\n",
    "    for t in range(t_max):\n",
    "        a = get_action(s, epsilon=epsilon)\n",
    "        next_s, r, done, _ = env.step(a)\n",
    "\n",
    "        if train:\n",
    "            opt.zero_grad()\n",
    "            compute_td_loss([s], [a], [r], [next_s], [done]).backward()\n",
    "            opt.step()\n",
    "\n",
    "        total_reward += r\n",
    "        s = next_s\n",
    "        if done:\n",
    "            break\n",
    "\n",
    "    return total_reward"
   ]
  },
  {
   "cell_type": "code",
   "execution_count": 34,
   "metadata": {
    "scrolled": true
   },
   "outputs": [
    {
     "name": "stdout",
     "output_type": "stream",
     "text": [
      "epoch #0\tmean reward = 20.340\tepsilon = 0.700\n",
      "epoch #1\tmean reward = 19.780\tepsilon = 0.693\n",
      "epoch #2\tmean reward = 21.810\tepsilon = 0.686\n",
      "epoch #3\tmean reward = 21.740\tepsilon = 0.679\n",
      "epoch #4\tmean reward = 20.470\tepsilon = 0.672\n",
      "epoch #5\tmean reward = 21.340\tepsilon = 0.666\n",
      "epoch #6\tmean reward = 25.980\tepsilon = 0.659\n",
      "epoch #7\tmean reward = 23.590\tepsilon = 0.652\n",
      "epoch #8\tmean reward = 22.820\tepsilon = 0.646\n",
      "epoch #9\tmean reward = 23.390\tepsilon = 0.639\n",
      "epoch #10\tmean reward = 23.410\tepsilon = 0.633\n",
      "epoch #11\tmean reward = 21.890\tepsilon = 0.627\n",
      "epoch #12\tmean reward = 22.020\tepsilon = 0.620\n",
      "epoch #13\tmean reward = 20.030\tepsilon = 0.614\n",
      "epoch #14\tmean reward = 22.250\tepsilon = 0.608\n",
      "epoch #15\tmean reward = 23.750\tepsilon = 0.602\n",
      "epoch #16\tmean reward = 23.670\tepsilon = 0.596\n",
      "epoch #17\tmean reward = 20.410\tepsilon = 0.590\n",
      "epoch #18\tmean reward = 18.980\tepsilon = 0.584\n",
      "epoch #19\tmean reward = 22.220\tepsilon = 0.578\n",
      "epoch #20\tmean reward = 20.440\tepsilon = 0.573\n",
      "epoch #21\tmean reward = 22.340\tepsilon = 0.567\n",
      "epoch #22\tmean reward = 21.130\tepsilon = 0.561\n",
      "epoch #23\tmean reward = 24.740\tepsilon = 0.556\n",
      "epoch #24\tmean reward = 25.780\tepsilon = 0.550\n",
      "epoch #25\tmean reward = 24.040\tepsilon = 0.544\n",
      "epoch #26\tmean reward = 22.750\tepsilon = 0.539\n",
      "epoch #27\tmean reward = 22.440\tepsilon = 0.534\n",
      "epoch #28\tmean reward = 23.230\tepsilon = 0.528\n",
      "epoch #29\tmean reward = 20.740\tepsilon = 0.523\n",
      "epoch #30\tmean reward = 20.510\tepsilon = 0.518\n",
      "epoch #31\tmean reward = 20.020\tepsilon = 0.513\n",
      "epoch #32\tmean reward = 18.410\tepsilon = 0.507\n",
      "epoch #33\tmean reward = 20.690\tepsilon = 0.502\n",
      "epoch #34\tmean reward = 21.720\tepsilon = 0.497\n",
      "epoch #35\tmean reward = 19.650\tepsilon = 0.492\n",
      "epoch #36\tmean reward = 22.330\tepsilon = 0.487\n",
      "epoch #37\tmean reward = 23.170\tepsilon = 0.483\n",
      "epoch #38\tmean reward = 27.220\tepsilon = 0.478\n",
      "epoch #39\tmean reward = 23.670\tepsilon = 0.473\n",
      "epoch #40\tmean reward = 21.040\tepsilon = 0.468\n",
      "epoch #41\tmean reward = 23.700\tepsilon = 0.464\n",
      "epoch #42\tmean reward = 20.170\tepsilon = 0.459\n",
      "epoch #43\tmean reward = 20.300\tepsilon = 0.454\n",
      "epoch #44\tmean reward = 20.620\tepsilon = 0.450\n",
      "epoch #45\tmean reward = 19.720\tepsilon = 0.445\n",
      "epoch #46\tmean reward = 19.680\tepsilon = 0.441\n",
      "epoch #47\tmean reward = 19.550\tepsilon = 0.436\n",
      "epoch #48\tmean reward = 20.190\tepsilon = 0.432\n",
      "epoch #49\tmean reward = 21.510\tepsilon = 0.428\n",
      "epoch #50\tmean reward = 19.710\tepsilon = 0.424\n",
      "epoch #51\tmean reward = 19.210\tepsilon = 0.419\n",
      "epoch #52\tmean reward = 23.700\tepsilon = 0.415\n",
      "epoch #53\tmean reward = 20.610\tepsilon = 0.411\n",
      "epoch #54\tmean reward = 17.370\tepsilon = 0.407\n",
      "epoch #55\tmean reward = 19.070\tepsilon = 0.403\n",
      "epoch #56\tmean reward = 18.790\tepsilon = 0.399\n",
      "epoch #57\tmean reward = 20.780\tepsilon = 0.395\n",
      "epoch #58\tmean reward = 19.120\tepsilon = 0.391\n",
      "epoch #59\tmean reward = 23.320\tepsilon = 0.387\n",
      "epoch #60\tmean reward = 20.090\tepsilon = 0.383\n",
      "epoch #61\tmean reward = 19.900\tepsilon = 0.379\n",
      "epoch #62\tmean reward = 24.770\tepsilon = 0.375\n",
      "epoch #63\tmean reward = 19.700\tepsilon = 0.372\n",
      "epoch #64\tmean reward = 19.410\tepsilon = 0.368\n",
      "epoch #65\tmean reward = 20.780\tepsilon = 0.364\n",
      "epoch #66\tmean reward = 19.680\tepsilon = 0.361\n",
      "epoch #67\tmean reward = 22.800\tepsilon = 0.357\n",
      "epoch #68\tmean reward = 19.370\tepsilon = 0.353\n",
      "epoch #69\tmean reward = 18.270\tepsilon = 0.350\n",
      "epoch #70\tmean reward = 21.160\tepsilon = 0.346\n",
      "epoch #71\tmean reward = 21.690\tepsilon = 0.343\n",
      "epoch #72\tmean reward = 18.880\tepsilon = 0.339\n",
      "epoch #73\tmean reward = 19.370\tepsilon = 0.336\n",
      "epoch #74\tmean reward = 19.230\tepsilon = 0.333\n",
      "epoch #75\tmean reward = 20.960\tepsilon = 0.329\n",
      "epoch #76\tmean reward = 18.030\tepsilon = 0.326\n",
      "epoch #77\tmean reward = 23.370\tepsilon = 0.323\n",
      "epoch #78\tmean reward = 22.970\tepsilon = 0.320\n",
      "epoch #79\tmean reward = 23.820\tepsilon = 0.316\n",
      "epoch #80\tmean reward = 21.410\tepsilon = 0.313\n",
      "epoch #81\tmean reward = 19.530\tepsilon = 0.310\n",
      "epoch #82\tmean reward = 21.780\tepsilon = 0.307\n",
      "epoch #83\tmean reward = 19.730\tepsilon = 0.304\n",
      "epoch #84\tmean reward = 20.840\tepsilon = 0.301\n",
      "epoch #85\tmean reward = 20.370\tepsilon = 0.298\n",
      "epoch #86\tmean reward = 20.160\tepsilon = 0.295\n",
      "epoch #87\tmean reward = 17.980\tepsilon = 0.292\n",
      "epoch #88\tmean reward = 21.890\tepsilon = 0.289\n",
      "epoch #89\tmean reward = 20.390\tepsilon = 0.286\n",
      "epoch #90\tmean reward = 20.610\tepsilon = 0.283\n",
      "epoch #91\tmean reward = 20.490\tepsilon = 0.280\n",
      "epoch #92\tmean reward = 22.460\tepsilon = 0.278\n",
      "epoch #93\tmean reward = 22.480\tepsilon = 0.275\n",
      "epoch #94\tmean reward = 19.290\tepsilon = 0.272\n",
      "epoch #95\tmean reward = 22.780\tepsilon = 0.269\n",
      "epoch #96\tmean reward = 15.090\tepsilon = 0.267\n",
      "epoch #97\tmean reward = 19.920\tepsilon = 0.264\n",
      "epoch #98\tmean reward = 21.430\tepsilon = 0.261\n",
      "epoch #99\tmean reward = 20.890\tepsilon = 0.259\n",
      "epoch #100\tmean reward = 20.140\tepsilon = 0.256\n",
      "epoch #101\tmean reward = 19.000\tepsilon = 0.254\n",
      "epoch #102\tmean reward = 22.950\tepsilon = 0.251\n",
      "epoch #103\tmean reward = 20.010\tepsilon = 0.249\n",
      "epoch #104\tmean reward = 18.520\tepsilon = 0.246\n",
      "epoch #105\tmean reward = 21.780\tepsilon = 0.244\n",
      "epoch #106\tmean reward = 28.150\tepsilon = 0.241\n",
      "epoch #107\tmean reward = 22.750\tepsilon = 0.239\n",
      "epoch #108\tmean reward = 22.010\tepsilon = 0.236\n",
      "epoch #109\tmean reward = 25.610\tepsilon = 0.234\n",
      "epoch #110\tmean reward = 27.050\tepsilon = 0.232\n",
      "epoch #111\tmean reward = 26.060\tepsilon = 0.229\n",
      "epoch #112\tmean reward = 20.050\tepsilon = 0.227\n",
      "epoch #113\tmean reward = 29.110\tepsilon = 0.225\n",
      "epoch #114\tmean reward = 23.360\tepsilon = 0.223\n",
      "epoch #115\tmean reward = 18.720\tepsilon = 0.220\n",
      "epoch #116\tmean reward = 24.280\tepsilon = 0.218\n",
      "epoch #117\tmean reward = 25.200\tepsilon = 0.216\n",
      "epoch #118\tmean reward = 24.430\tepsilon = 0.214\n",
      "epoch #119\tmean reward = 20.350\tepsilon = 0.212\n",
      "epoch #120\tmean reward = 24.270\tepsilon = 0.210\n",
      "epoch #121\tmean reward = 26.450\tepsilon = 0.207\n",
      "epoch #122\tmean reward = 20.590\tepsilon = 0.205\n",
      "epoch #123\tmean reward = 21.590\tepsilon = 0.203\n",
      "epoch #124\tmean reward = 22.580\tepsilon = 0.201\n",
      "epoch #125\tmean reward = 19.030\tepsilon = 0.199\n",
      "epoch #126\tmean reward = 20.200\tepsilon = 0.197\n",
      "epoch #127\tmean reward = 19.570\tepsilon = 0.195\n"
     ]
    },
    {
     "ename": "KeyboardInterrupt",
     "evalue": "",
     "output_type": "error",
     "traceback": [
      "\u001b[0;31m---------------------------------------------------------------------------\u001b[0m",
      "\u001b[0;31mKeyboardInterrupt\u001b[0m                         Traceback (most recent call last)",
      "\u001b[0;32m<ipython-input-34-c310065f8ce7>\u001b[0m in \u001b[0;36m<module>\u001b[0;34m\u001b[0m\n\u001b[1;32m      1\u001b[0m \u001b[0;32mfor\u001b[0m \u001b[0mi\u001b[0m \u001b[0;32min\u001b[0m \u001b[0mrange\u001b[0m\u001b[0;34m(\u001b[0m\u001b[0;36m1000\u001b[0m\u001b[0;34m)\u001b[0m\u001b[0;34m:\u001b[0m\u001b[0;34m\u001b[0m\u001b[0m\n\u001b[1;32m      2\u001b[0m     session_rewards = [generate_session(\n\u001b[0;32m----> 3\u001b[0;31m         epsilon=epsilon, train=True) for _ in range(100)]\n\u001b[0m\u001b[1;32m      4\u001b[0m     print(\"epoch #{}\\tmean reward = {:.3f}\\tepsilon = {:.3f}\".format(\n\u001b[1;32m      5\u001b[0m         i, np.mean(session_rewards), epsilon))\n",
      "\u001b[0;32m<ipython-input-34-c310065f8ce7>\u001b[0m in \u001b[0;36m<listcomp>\u001b[0;34m(.0)\u001b[0m\n\u001b[1;32m      1\u001b[0m \u001b[0;32mfor\u001b[0m \u001b[0mi\u001b[0m \u001b[0;32min\u001b[0m \u001b[0mrange\u001b[0m\u001b[0;34m(\u001b[0m\u001b[0;36m1000\u001b[0m\u001b[0;34m)\u001b[0m\u001b[0;34m:\u001b[0m\u001b[0;34m\u001b[0m\u001b[0m\n\u001b[1;32m      2\u001b[0m     session_rewards = [generate_session(\n\u001b[0;32m----> 3\u001b[0;31m         epsilon=epsilon, train=True) for _ in range(100)]\n\u001b[0m\u001b[1;32m      4\u001b[0m     print(\"epoch #{}\\tmean reward = {:.3f}\\tepsilon = {:.3f}\".format(\n\u001b[1;32m      5\u001b[0m         i, np.mean(session_rewards), epsilon))\n",
      "\u001b[0;32m<ipython-input-33-6ef1d47604dc>\u001b[0m in \u001b[0;36mgenerate_session\u001b[0;34m(t_max, epsilon, train)\u001b[0m\n\u001b[1;32m     10\u001b[0m         \u001b[0;32mif\u001b[0m \u001b[0mtrain\u001b[0m\u001b[0;34m:\u001b[0m\u001b[0;34m\u001b[0m\u001b[0m\n\u001b[1;32m     11\u001b[0m             \u001b[0mopt\u001b[0m\u001b[0;34m.\u001b[0m\u001b[0mzero_grad\u001b[0m\u001b[0;34m(\u001b[0m\u001b[0;34m)\u001b[0m\u001b[0;34m\u001b[0m\u001b[0m\n\u001b[0;32m---> 12\u001b[0;31m             \u001b[0mcompute_td_loss\u001b[0m\u001b[0;34m(\u001b[0m\u001b[0;34m[\u001b[0m\u001b[0ms\u001b[0m\u001b[0;34m]\u001b[0m\u001b[0;34m,\u001b[0m \u001b[0;34m[\u001b[0m\u001b[0ma\u001b[0m\u001b[0;34m]\u001b[0m\u001b[0;34m,\u001b[0m \u001b[0;34m[\u001b[0m\u001b[0mr\u001b[0m\u001b[0;34m]\u001b[0m\u001b[0;34m,\u001b[0m \u001b[0;34m[\u001b[0m\u001b[0mnext_s\u001b[0m\u001b[0;34m]\u001b[0m\u001b[0;34m,\u001b[0m \u001b[0;34m[\u001b[0m\u001b[0mdone\u001b[0m\u001b[0;34m]\u001b[0m\u001b[0;34m)\u001b[0m\u001b[0;34m.\u001b[0m\u001b[0mbackward\u001b[0m\u001b[0;34m(\u001b[0m\u001b[0;34m)\u001b[0m\u001b[0;34m\u001b[0m\u001b[0m\n\u001b[0m\u001b[1;32m     13\u001b[0m             \u001b[0mopt\u001b[0m\u001b[0;34m.\u001b[0m\u001b[0mstep\u001b[0m\u001b[0;34m(\u001b[0m\u001b[0;34m)\u001b[0m\u001b[0;34m\u001b[0m\u001b[0m\n\u001b[1;32m     14\u001b[0m \u001b[0;34m\u001b[0m\u001b[0m\n",
      "\u001b[0;32m<ipython-input-27-6e55157e5038>\u001b[0m in \u001b[0;36mcompute_td_loss\u001b[0;34m(states, actions, rewards, next_states, is_done, gamma, check_shapes)\u001b[0m\n\u001b[1;32m     10\u001b[0m \u001b[0;34m\u001b[0m\u001b[0m\n\u001b[1;32m     11\u001b[0m     \u001b[0;31m# get q-values for all actions in current states\u001b[0m\u001b[0;34m\u001b[0m\u001b[0;34m\u001b[0m\u001b[0m\n\u001b[0;32m---> 12\u001b[0;31m     \u001b[0mpredicted_qvalues\u001b[0m \u001b[0;34m=\u001b[0m \u001b[0mnetwork\u001b[0m\u001b[0;34m(\u001b[0m\u001b[0mstates\u001b[0m\u001b[0;34m)\u001b[0m\u001b[0;34m\u001b[0m\u001b[0m\n\u001b[0m\u001b[1;32m     13\u001b[0m \u001b[0;34m\u001b[0m\u001b[0m\n\u001b[1;32m     14\u001b[0m     \u001b[0;31m# select q-values for chosen actions\u001b[0m\u001b[0;34m\u001b[0m\u001b[0;34m\u001b[0m\u001b[0m\n",
      "\u001b[0;32m~/openaigym/lib/python3.5/site-packages/torch/nn/modules/module.py\u001b[0m in \u001b[0;36m__call__\u001b[0;34m(self, *input, **kwargs)\u001b[0m\n\u001b[1;32m    487\u001b[0m             \u001b[0mresult\u001b[0m \u001b[0;34m=\u001b[0m \u001b[0mself\u001b[0m\u001b[0;34m.\u001b[0m\u001b[0m_slow_forward\u001b[0m\u001b[0;34m(\u001b[0m\u001b[0;34m*\u001b[0m\u001b[0minput\u001b[0m\u001b[0;34m,\u001b[0m \u001b[0;34m**\u001b[0m\u001b[0mkwargs\u001b[0m\u001b[0;34m)\u001b[0m\u001b[0;34m\u001b[0m\u001b[0m\n\u001b[1;32m    488\u001b[0m         \u001b[0;32melse\u001b[0m\u001b[0;34m:\u001b[0m\u001b[0;34m\u001b[0m\u001b[0m\n\u001b[0;32m--> 489\u001b[0;31m             \u001b[0mresult\u001b[0m \u001b[0;34m=\u001b[0m \u001b[0mself\u001b[0m\u001b[0;34m.\u001b[0m\u001b[0mforward\u001b[0m\u001b[0;34m(\u001b[0m\u001b[0;34m*\u001b[0m\u001b[0minput\u001b[0m\u001b[0;34m,\u001b[0m \u001b[0;34m**\u001b[0m\u001b[0mkwargs\u001b[0m\u001b[0;34m)\u001b[0m\u001b[0;34m\u001b[0m\u001b[0m\n\u001b[0m\u001b[1;32m    490\u001b[0m         \u001b[0;32mfor\u001b[0m \u001b[0mhook\u001b[0m \u001b[0;32min\u001b[0m \u001b[0mself\u001b[0m\u001b[0;34m.\u001b[0m\u001b[0m_forward_hooks\u001b[0m\u001b[0;34m.\u001b[0m\u001b[0mvalues\u001b[0m\u001b[0;34m(\u001b[0m\u001b[0;34m)\u001b[0m\u001b[0;34m:\u001b[0m\u001b[0;34m\u001b[0m\u001b[0m\n\u001b[1;32m    491\u001b[0m             \u001b[0mhook_result\u001b[0m \u001b[0;34m=\u001b[0m \u001b[0mhook\u001b[0m\u001b[0;34m(\u001b[0m\u001b[0mself\u001b[0m\u001b[0;34m,\u001b[0m \u001b[0minput\u001b[0m\u001b[0;34m,\u001b[0m \u001b[0mresult\u001b[0m\u001b[0;34m)\u001b[0m\u001b[0;34m\u001b[0m\u001b[0m\n",
      "\u001b[0;32m~/openaigym/lib/python3.5/site-packages/torch/nn/modules/container.py\u001b[0m in \u001b[0;36mforward\u001b[0;34m(self, input)\u001b[0m\n\u001b[1;32m     90\u001b[0m     \u001b[0;32mdef\u001b[0m \u001b[0mforward\u001b[0m\u001b[0;34m(\u001b[0m\u001b[0mself\u001b[0m\u001b[0;34m,\u001b[0m \u001b[0minput\u001b[0m\u001b[0;34m)\u001b[0m\u001b[0;34m:\u001b[0m\u001b[0;34m\u001b[0m\u001b[0m\n\u001b[1;32m     91\u001b[0m         \u001b[0;32mfor\u001b[0m \u001b[0mmodule\u001b[0m \u001b[0;32min\u001b[0m \u001b[0mself\u001b[0m\u001b[0;34m.\u001b[0m\u001b[0m_modules\u001b[0m\u001b[0;34m.\u001b[0m\u001b[0mvalues\u001b[0m\u001b[0;34m(\u001b[0m\u001b[0;34m)\u001b[0m\u001b[0;34m:\u001b[0m\u001b[0;34m\u001b[0m\u001b[0m\n\u001b[0;32m---> 92\u001b[0;31m             \u001b[0minput\u001b[0m \u001b[0;34m=\u001b[0m \u001b[0mmodule\u001b[0m\u001b[0;34m(\u001b[0m\u001b[0minput\u001b[0m\u001b[0;34m)\u001b[0m\u001b[0;34m\u001b[0m\u001b[0m\n\u001b[0m\u001b[1;32m     93\u001b[0m         \u001b[0;32mreturn\u001b[0m \u001b[0minput\u001b[0m\u001b[0;34m\u001b[0m\u001b[0m\n\u001b[1;32m     94\u001b[0m \u001b[0;34m\u001b[0m\u001b[0m\n",
      "\u001b[0;32m~/openaigym/lib/python3.5/site-packages/torch/nn/modules/module.py\u001b[0m in \u001b[0;36m__call__\u001b[0;34m(self, *input, **kwargs)\u001b[0m\n\u001b[1;32m    482\u001b[0m \u001b[0;34m\u001b[0m\u001b[0m\n\u001b[1;32m    483\u001b[0m     \u001b[0;32mdef\u001b[0m \u001b[0m__call__\u001b[0m\u001b[0;34m(\u001b[0m\u001b[0mself\u001b[0m\u001b[0;34m,\u001b[0m \u001b[0;34m*\u001b[0m\u001b[0minput\u001b[0m\u001b[0;34m,\u001b[0m \u001b[0;34m**\u001b[0m\u001b[0mkwargs\u001b[0m\u001b[0;34m)\u001b[0m\u001b[0;34m:\u001b[0m\u001b[0;34m\u001b[0m\u001b[0m\n\u001b[0;32m--> 484\u001b[0;31m         \u001b[0;32mfor\u001b[0m \u001b[0mhook\u001b[0m \u001b[0;32min\u001b[0m \u001b[0mself\u001b[0m\u001b[0;34m.\u001b[0m\u001b[0m_forward_pre_hooks\u001b[0m\u001b[0;34m.\u001b[0m\u001b[0mvalues\u001b[0m\u001b[0;34m(\u001b[0m\u001b[0;34m)\u001b[0m\u001b[0;34m:\u001b[0m\u001b[0;34m\u001b[0m\u001b[0m\n\u001b[0m\u001b[1;32m    485\u001b[0m             \u001b[0mhook\u001b[0m\u001b[0;34m(\u001b[0m\u001b[0mself\u001b[0m\u001b[0;34m,\u001b[0m \u001b[0minput\u001b[0m\u001b[0;34m)\u001b[0m\u001b[0;34m\u001b[0m\u001b[0m\n\u001b[1;32m    486\u001b[0m         \u001b[0;32mif\u001b[0m \u001b[0mtorch\u001b[0m\u001b[0;34m.\u001b[0m\u001b[0m_C\u001b[0m\u001b[0;34m.\u001b[0m\u001b[0m_get_tracing_state\u001b[0m\u001b[0;34m(\u001b[0m\u001b[0;34m)\u001b[0m\u001b[0;34m:\u001b[0m\u001b[0;34m\u001b[0m\u001b[0m\n",
      "\u001b[0;31mKeyboardInterrupt\u001b[0m: "
     ]
    }
   ],
   "source": [
    "for i in range(1000):\n",
    "    session_rewards = [generate_session(\n",
    "        epsilon=epsilon, train=True) for _ in range(100)]\n",
    "    print(\"epoch #{}\\tmean reward = {:.3f}\\tepsilon = {:.3f}\".format(\n",
    "        i, np.mean(session_rewards), epsilon))\n",
    "\n",
    "    epsilon *= 0.99\n",
    "    if epsilon < 0.01 and np.mean(session_rewards) < 200:\n",
    "        epsilon = 0.4\n",
    "    assert epsilon >= 1e-4, \"Make sure epsilon is always nonzero during training\"\n",
    "\n",
    "    if np.mean(session_rewards) > 300:\n",
    "        print(\"You Win!\")\n",
    "        break"
   ]
  },
  {
   "cell_type": "markdown",
   "metadata": {},
   "source": [
    "### How to interpret results\n",
    "\n",
    "\n",
    "Welcome to the f.. world of deep f...n reinforcement learning. Don't expect agent's reward to smoothly go up. Hope for it to go increase eventually. If it deems you worthy.\n",
    "\n",
    "Seriously though,\n",
    "* __ mean reward__ is the average reward per game. For a correct implementation it may stay low for some 10 epochs, then start growing while oscilating insanely and converges by ~50-100 steps depending on the network architecture. \n",
    "* If it never reaches target score by the end of for loop, try increasing the number of hidden neurons or look at the epsilon.\n",
    "* __ epsilon__ - agent's willingness to explore. If you see that agent's already at < 0.01 epsilon before it's is at least 200, just reset it back to 0.1 - 0.5."
   ]
  },
  {
   "cell_type": "markdown",
   "metadata": {},
   "source": [
    "### Record videos\n",
    "\n",
    "As usual, we now use `gym.wrappers.Monitor` to record a video of our agent playing the game. Unlike our previous attempts with state binarization, this time we expect our agent to act ~~(or fail)~~ more smoothly since there's no more binarization error at play.\n",
    "\n",
    "As you already did with tabular q-learning, we set epsilon=0 for final evaluation to prevent agent from exploring himself to death."
   ]
  },
  {
   "cell_type": "code",
   "execution_count": 20,
   "metadata": {
    "scrolled": true
   },
   "outputs": [],
   "source": [
    "# record sessions\n",
    "import gym.wrappers\n",
    "env = gym.wrappers.Monitor(gym.make(\"CartPole-v0\"),\n",
    "                           directory=\"videos\", force=True)\n",
    "env.close()\n",
    "sessions = [generate_session(epsilon=0, train=False) for _ in range(100)]"
   ]
  },
  {
   "cell_type": "code",
   "execution_count": 21,
   "metadata": {},
   "outputs": [
    {
     "data": {
      "text/html": [
       "\n",
       "<video width=\"640\" height=\"480\" controls>\n",
       "  <source src=\"./videos/openaigym.video.0.21677.video000000.mp4\" type=\"video/mp4\">\n",
       "</video>\n"
      ],
      "text/plain": [
       "<IPython.core.display.HTML object>"
      ]
     },
     "execution_count": 21,
     "metadata": {},
     "output_type": "execute_result"
    }
   ],
   "source": [
    "# show video\n",
    "from IPython.display import HTML\n",
    "import os\n",
    "\n",
    "video_names = list(\n",
    "    filter(lambda s: s.endswith(\".mp4\"), os.listdir(\"./videos/\")))\n",
    "\n",
    "HTML(\"\"\"\n",
    "<video width=\"640\" height=\"480\" controls>\n",
    "  <source src=\"{}\" type=\"video/mp4\">\n",
    "</video>\n",
    "\"\"\".format(\"./videos/\"+video_names[-1]))  # this may or may not be _last_ video. Try other indices"
   ]
  },
  {
   "cell_type": "code",
   "execution_count": null,
   "metadata": {},
   "outputs": [],
   "source": []
  }
 ],
 "metadata": {
  "anaconda-cloud": {},
  "kernelspec": {
   "display_name": "openaigym",
   "language": "python",
   "name": "openaigym"
  },
  "language_info": {
   "codemirror_mode": {
    "name": "ipython",
    "version": 3
   },
   "file_extension": ".py",
   "mimetype": "text/x-python",
   "name": "python",
   "nbconvert_exporter": "python",
   "pygments_lexer": "ipython3",
   "version": "3.5.2"
  }
 },
 "nbformat": 4,
 "nbformat_minor": 1
}
